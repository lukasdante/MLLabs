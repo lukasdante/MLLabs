{
 "cells": [
  {
   "cell_type": "markdown",
   "id": "a1801335-9431-40a5-903c-b31b70dbf2c8",
   "metadata": {},
   "source": [
    "# Programming Assignment No. 5: Random Forest\n",
    "---"
   ]
  },
  {
   "cell_type": "markdown",
   "id": "b5fa5e05-85fe-4f93-81cf-26fd3f1f959b",
   "metadata": {},
   "source": [
    "## Preparation"
   ]
  },
  {
   "cell_type": "markdown",
   "id": "70915249-b4c4-411e-9c5b-7c3c7eacece0",
   "metadata": {},
   "source": [
    "Import necessary libraries."
   ]
  },
  {
   "cell_type": "code",
   "execution_count": 1,
   "id": "82bb31f5-d376-431b-824d-81580b26a6bd",
   "metadata": {},
   "outputs": [],
   "source": [
    "import warnings\n",
    "warnings.filterwarnings(\"ignore\", category=UserWarning)\n",
    "warnings.filterwarnings(\"ignore\", category=FutureWarning)\n",
    "\n",
    "import numpy as np\n",
    "import pandas as pd\n",
    "import matplotlib.pyplot as plt\n",
    "import seaborn as sns"
   ]
  },
  {
   "cell_type": "code",
   "execution_count": 2,
   "id": "62ba2410-4a0a-4107-8093-88cb44772cac",
   "metadata": {},
   "outputs": [],
   "source": [
    "!pip install -qU openpyxl"
   ]
  },
  {
   "cell_type": "markdown",
   "id": "53d1c181-875e-47f2-bcdc-48dd66c80145",
   "metadata": {},
   "source": [
    "Load the dataset."
   ]
  },
  {
   "cell_type": "code",
   "execution_count": 3,
   "id": "10f54ff1-03b0-4270-b529-1bbcddb90cc6",
   "metadata": {
    "scrolled": true
   },
   "outputs": [
    {
     "data": {
      "text/html": [
       "<div>\n",
       "<style scoped>\n",
       "    .dataframe tbody tr th:only-of-type {\n",
       "        vertical-align: middle;\n",
       "    }\n",
       "\n",
       "    .dataframe tbody tr th {\n",
       "        vertical-align: top;\n",
       "    }\n",
       "\n",
       "    .dataframe thead th {\n",
       "        text-align: right;\n",
       "    }\n",
       "</style>\n",
       "<table border=\"1\" class=\"dataframe\">\n",
       "  <thead>\n",
       "    <tr style=\"text-align: right;\">\n",
       "      <th></th>\n",
       "      <th>protocol_type</th>\n",
       "      <th>duration</th>\n",
       "      <th>src_bytes</th>\n",
       "      <th>dst_bytes</th>\n",
       "      <th>num_packets</th>\n",
       "      <th>num_connections</th>\n",
       "      <th>attack_type</th>\n",
       "    </tr>\n",
       "  </thead>\n",
       "  <tbody>\n",
       "    <tr>\n",
       "      <th>0</th>\n",
       "      <td>1</td>\n",
       "      <td>43.418651</td>\n",
       "      <td>1701.411601</td>\n",
       "      <td>201.794741</td>\n",
       "      <td>42</td>\n",
       "      <td>15</td>\n",
       "      <td>Botnet</td>\n",
       "    </tr>\n",
       "    <tr>\n",
       "      <th>1</th>\n",
       "      <td>1</td>\n",
       "      <td>8.587924</td>\n",
       "      <td>409.971403</td>\n",
       "      <td>710.745376</td>\n",
       "      <td>17</td>\n",
       "      <td>6</td>\n",
       "      <td>Normal</td>\n",
       "    </tr>\n",
       "    <tr>\n",
       "      <th>2</th>\n",
       "      <td>1</td>\n",
       "      <td>4.386891</td>\n",
       "      <td>418.478693</td>\n",
       "      <td>559.457816</td>\n",
       "      <td>17</td>\n",
       "      <td>5</td>\n",
       "      <td>Normal</td>\n",
       "    </tr>\n",
       "    <tr>\n",
       "      <th>3</th>\n",
       "      <td>0</td>\n",
       "      <td>NaN</td>\n",
       "      <td>NaN</td>\n",
       "      <td>NaN</td>\n",
       "      <td>11</td>\n",
       "      <td>3</td>\n",
       "      <td>Normal</td>\n",
       "    </tr>\n",
       "    <tr>\n",
       "      <th>4</th>\n",
       "      <td>0</td>\n",
       "      <td>1.061892</td>\n",
       "      <td>494.253699</td>\n",
       "      <td>572.459614</td>\n",
       "      <td>11</td>\n",
       "      <td>3</td>\n",
       "      <td>Normal</td>\n",
       "    </tr>\n",
       "  </tbody>\n",
       "</table>\n",
       "</div>"
      ],
      "text/plain": [
       "   protocol_type   duration    src_bytes   dst_bytes  num_packets  \\\n",
       "0              1  43.418651  1701.411601  201.794741           42   \n",
       "1              1   8.587924   409.971403  710.745376           17   \n",
       "2              1   4.386891   418.478693  559.457816           17   \n",
       "3              0        NaN          NaN         NaN           11   \n",
       "4              0   1.061892   494.253699  572.459614           11   \n",
       "\n",
       "   num_connections attack_type  \n",
       "0               15      Botnet  \n",
       "1                6      Normal  \n",
       "2                5      Normal  \n",
       "3                3      Normal  \n",
       "4                3      Normal  "
      ]
     },
     "execution_count": 3,
     "metadata": {},
     "output_type": "execute_result"
    }
   ],
   "source": [
    "# Load the dataset\n",
    "df = pd.read_excel('cyber_attacks.xlsx')\n",
    "df.head()"
   ]
  },
  {
   "cell_type": "markdown",
   "id": "4f926675-a2a6-4e15-a7c3-89bfa5e952d4",
   "metadata": {},
   "source": [
    "## Exploratory Data Analysis"
   ]
  },
  {
   "cell_type": "code",
   "execution_count": 4,
   "id": "57eddfe9-8236-4baf-83b9-941922034c0b",
   "metadata": {},
   "outputs": [
    {
     "data": {
      "text/plain": [
       "(10000, 7)"
      ]
     },
     "execution_count": 4,
     "metadata": {},
     "output_type": "execute_result"
    }
   ],
   "source": [
    "df.shape # shape of the dataframe"
   ]
  },
  {
   "cell_type": "code",
   "execution_count": 5,
   "id": "0775bae4-2eb4-4f89-97e9-035cbeb8e63a",
   "metadata": {},
   "outputs": [
    {
     "data": {
      "text/plain": [
       "attack_type\n",
       "Normal      6000\n",
       "Botnet      1000\n",
       "DDoS        1000\n",
       "Phishing    1000\n",
       "PortScan    1000\n",
       "Name: count, dtype: int64"
      ]
     },
     "execution_count": 5,
     "metadata": {},
     "output_type": "execute_result"
    }
   ],
   "source": [
    "attack_type_count = df.attack_type.value_counts() # distribution of labels\n",
    "attack_type_count"
   ]
  },
  {
   "cell_type": "markdown",
   "id": "0f2b7015-0a53-48c2-b55d-cf38d72be030",
   "metadata": {},
   "source": [
    "---\n",
    "The different types of attacks seem to be uniformly distributed except the normal type. It isn't usual to see this kind of perfectly uniform distribution for real world datasets but it is perfect for practicing machine learning. The Normal type and any other label that hints neutrality typically has more data points because it appears more than other labels. We should now see if there are any missing values and find ways to treat them.\n",
    "\n",
    "---"
   ]
  },
  {
   "cell_type": "markdown",
   "id": "093bd434-2758-4b70-bbda-da20549bcf58",
   "metadata": {},
   "source": [
    "### Missing Values"
   ]
  },
  {
   "cell_type": "code",
   "execution_count": 6,
   "id": "7ed540dc-0901-42b1-912e-c8c869917391",
   "metadata": {},
   "outputs": [
    {
     "name": "stdout",
     "output_type": "stream",
     "text": [
      "Normal: 4.9% missing\n",
      "Botnet: 5.7% missing\n",
      "DDoS: 4.7% missing\n",
      "Phishing: 5.6% missing\n",
      "PortScan: 4.6% missing\n"
     ]
    }
   ],
   "source": [
    "# Determine percentage of missing values\n",
    "\n",
    "# missing values\n",
    "missing_attack_type_count = df[df.isnull().any(axis=1)]['attack_type'].value_counts()\n",
    "\n",
    "for attack_type in attack_type_count.index:\n",
    "    total = attack_type_count[attack_type] # total missing per attack_type\n",
    "    missing = missing_attack_type_count.get(attack_type, 0) # total missing per attack_type\n",
    "    percent_missing = round(missing / total * 100, 2) # percent missing\n",
    "    print(f\"{attack_type}: {percent_missing}% missing\")"
   ]
  },
  {
   "cell_type": "markdown",
   "id": "01a149da-ecd7-458d-b4b3-7f7a61e97c77",
   "metadata": {},
   "source": [
    "---\n",
    "We can see that almost 5% of the data are missing from each attack type. We can choose to simply remove these so as not to introduce any instability during training.\n",
    "\n",
    "---"
   ]
  },
  {
   "cell_type": "code",
   "execution_count": 7,
   "id": "cf6d1f70-c9e6-427c-8b58-acfbc569921a",
   "metadata": {},
   "outputs": [
    {
     "data": {
      "text/plain": [
       "attack_type\n",
       "Normal      5706\n",
       "PortScan     954\n",
       "DDoS         953\n",
       "Phishing     944\n",
       "Botnet       943\n",
       "Name: count, dtype: int64"
      ]
     },
     "execution_count": 7,
     "metadata": {},
     "output_type": "execute_result"
    }
   ],
   "source": [
    "df_clean = df.dropna() # drop all rows with missing values\n",
    "cleaned_count = df_clean.attack_type.value_counts() # final count\n",
    "cleaned_count"
   ]
  },
  {
   "cell_type": "code",
   "execution_count": 8,
   "id": "7b254f2b-09d5-401a-8bca-190886d47fb4",
   "metadata": {},
   "outputs": [
    {
     "data": {
      "image/png": "[encoded data removed]",
      "text/plain": [
       "<Figure size 640x480 with 1 Axes>"
      ]
     },
     "metadata": {},
     "output_type": "display_data"
    }
   ],
   "source": [
    "sns.barplot(cleaned_count);"
   ]
  },
  {
   "cell_type": "markdown",
   "id": "a9ff90bc-7757-4744-9a09-15fccb490f54",
   "metadata": {},
   "source": [
    "---\n",
    "We can see that we arrived with almost the same uniform distribution that we had earlier. The missing values may be another type of attack that the domain expert failed to categorize. Anyhow, it is beyond our work here and since we do not have any domain knowledge about cybersecurity attacks, we can safely choose to just remove these missing values. We can always perform a separate analysis of these missing values.\n",
    "\n",
    "---"
   ]
  },
  {
   "cell_type": "markdown",
   "id": "803dd6e5-242a-47ab-bd56-5581f5cb5d24",
   "metadata": {},
   "source": [
    "### Preprocessing"
   ]
  },
  {
   "cell_type": "code",
   "execution_count": 9,
   "id": "5300b3fa-1740-4bd2-994f-2fee5bb67df7",
   "metadata": {},
   "outputs": [
    {
     "data": {
      "text/plain": [
       "protocol_type        int64\n",
       "duration           float64\n",
       "src_bytes          float64\n",
       "dst_bytes          float64\n",
       "num_packets          int64\n",
       "num_connections      int64\n",
       "attack_type         object\n",
       "dtype: object"
      ]
     },
     "execution_count": 9,
     "metadata": {},
     "output_type": "execute_result"
    }
   ],
   "source": [
    "df_clean.dtypes # data types"
   ]
  },
  {
   "cell_type": "markdown",
   "id": "310d1d41-0285-44c2-8591-f629ad1cc283",
   "metadata": {},
   "source": [
    "---\n",
    "The `protocol_type` is a categorical feature represented as integers. Should this be one-hot-encoded or is label encoding enough? The data scientist deems that this type of encoding is enough for random forests because the decisions formed by tree-based models are logical statements. However, it is often better that the categorical features be represented as strings or objects such that the model don't assume numerical logical expressions.\n",
    "\n",
    "---"
   ]
  },
  {
   "cell_type": "code",
   "execution_count": 10,
   "id": "517827f9-747d-4fda-b92d-90682ca9f10c",
   "metadata": {
    "scrolled": true
   },
   "outputs": [
    {
     "data": {
      "text/html": [
       "<div>\n",
       "<style scoped>\n",
       "    .dataframe tbody tr th:only-of-type {\n",
       "        vertical-align: middle;\n",
       "    }\n",
       "\n",
       "    .dataframe tbody tr th {\n",
       "        vertical-align: top;\n",
       "    }\n",
       "\n",
       "    .dataframe thead th {\n",
       "        text-align: right;\n",
       "    }\n",
       "</style>\n",
       "<table border=\"1\" class=\"dataframe\">\n",
       "  <thead>\n",
       "    <tr style=\"text-align: right;\">\n",
       "      <th></th>\n",
       "      <th>protocol_type</th>\n",
       "      <th>duration</th>\n",
       "      <th>src_bytes</th>\n",
       "      <th>dst_bytes</th>\n",
       "      <th>num_packets</th>\n",
       "      <th>num_connections</th>\n",
       "      <th>attack_type</th>\n",
       "    </tr>\n",
       "  </thead>\n",
       "  <tbody>\n",
       "    <tr>\n",
       "      <th>0</th>\n",
       "      <td>UDP</td>\n",
       "      <td>43.418651</td>\n",
       "      <td>1701.411601</td>\n",
       "      <td>201.794741</td>\n",
       "      <td>42</td>\n",
       "      <td>15</td>\n",
       "      <td>Botnet</td>\n",
       "    </tr>\n",
       "    <tr>\n",
       "      <th>1</th>\n",
       "      <td>UDP</td>\n",
       "      <td>8.587924</td>\n",
       "      <td>409.971403</td>\n",
       "      <td>710.745376</td>\n",
       "      <td>17</td>\n",
       "      <td>6</td>\n",
       "      <td>Normal</td>\n",
       "    </tr>\n",
       "    <tr>\n",
       "      <th>2</th>\n",
       "      <td>UDP</td>\n",
       "      <td>4.386891</td>\n",
       "      <td>418.478693</td>\n",
       "      <td>559.457816</td>\n",
       "      <td>17</td>\n",
       "      <td>5</td>\n",
       "      <td>Normal</td>\n",
       "    </tr>\n",
       "    <tr>\n",
       "      <th>4</th>\n",
       "      <td>TCP</td>\n",
       "      <td>1.061892</td>\n",
       "      <td>494.253699</td>\n",
       "      <td>572.459614</td>\n",
       "      <td>11</td>\n",
       "      <td>3</td>\n",
       "      <td>Normal</td>\n",
       "    </tr>\n",
       "    <tr>\n",
       "      <th>5</th>\n",
       "      <td>TCP</td>\n",
       "      <td>30.718808</td>\n",
       "      <td>1471.686910</td>\n",
       "      <td>15.383583</td>\n",
       "      <td>40</td>\n",
       "      <td>19</td>\n",
       "      <td>Botnet</td>\n",
       "    </tr>\n",
       "  </tbody>\n",
       "</table>\n",
       "</div>"
      ],
      "text/plain": [
       "  protocol_type   duration    src_bytes   dst_bytes  num_packets  \\\n",
       "0           UDP  43.418651  1701.411601  201.794741           42   \n",
       "1           UDP   8.587924   409.971403  710.745376           17   \n",
       "2           UDP   4.386891   418.478693  559.457816           17   \n",
       "4           TCP   1.061892   494.253699  572.459614           11   \n",
       "5           TCP  30.718808  1471.686910   15.383583           40   \n",
       "\n",
       "   num_connections attack_type  \n",
       "0               15      Botnet  \n",
       "1                6      Normal  \n",
       "2                5      Normal  \n",
       "4                3      Normal  \n",
       "5               19      Botnet  "
      ]
     },
     "execution_count": 10,
     "metadata": {},
     "output_type": "execute_result"
    }
   ],
   "source": [
    "# Map true protocol values\n",
    "protocol_map = {\n",
    "    0: \"TCP\",\n",
    "    1: \"UDP\",\n",
    "    2: \"ICMP\"\n",
    "}\n",
    "\n",
    "df_clean.loc[:, 'protocol_type'] = df_clean['protocol_type'].replace(protocol_map)\n",
    "df_clean.head()"
   ]
  },
  {
   "cell_type": "code",
   "execution_count": 13,
   "id": "39240a32-8651-4e15-8072-6621197e285d",
   "metadata": {},
   "outputs": [],
   "source": [
    "# Separate features and labels\n",
    "x = df_clean.drop(columns=['attack_type'])\n",
    "y = df_clean[['attack_type']]\n",
    "\n",
    "# Split dataset\n",
    "from sklearn.model_selection import train_test_split\n",
    "x_train, y_train, x_test, y_test = train_test_split(x, y, test_size=0.3, random_state=69, stratify=y)"
   ]
  },
  {
   "cell_type": "markdown",
   "id": "bb03512e-1baa-4622-aad8-d8783745b37d",
   "metadata": {},
   "source": [
    "---\n",
    "It is important that we stratify the dataset by the labels because even though non-normal attack types are distributed uniformly, normal attacks dominate the overall distribution. We need fair representation of these labels in the training set such that we can maximize the model performance across all labels.\n",
    "\n",
    "---"
   ]
  },
  {
   "cell_type": "markdown",
   "id": "9882352f-a079-4969-805a-78d583417750",
   "metadata": {},
   "source": [
    "## Model Training"
   ]
  },
  {
   "cell_type": "markdown",
   "id": "526b23c4-119f-4525-9243-ae883f84602d",
   "metadata": {},
   "source": [
    "Our goal is to identify the type of attack which is a categorical problem. We will be using the Random Forest classifier."
   ]
  },
  {
   "cell_type": "code",
   "execution_count": 16,
   "id": "bfdd27ce-c4e6-4a05-ad4d-3b6b11fd31e4",
   "metadata": {},
   "outputs": [
    {
     "ename": "ValueError",
     "evalue": "Found input variables with inconsistent numbers of samples: [6650, 2850]",
     "output_type": "error",
     "traceback": [
      "\u001b[0;31m---------------------------------------------------------------------------\u001b[0m",
      "\u001b[0;31mValueError\u001b[0m                                Traceback (most recent call last)",
      "Cell \u001b[0;32mIn[16], line 23\u001b[0m\n\u001b[1;32m     15\u001b[0m \u001b[38;5;66;03m# run grid search across parameters\u001b[39;00m\n\u001b[1;32m     16\u001b[0m grid_search \u001b[38;5;241m=\u001b[39m GridSearchCV(estimator\u001b[38;5;241m=\u001b[39mrf,\n\u001b[1;32m     17\u001b[0m                            param_grid\u001b[38;5;241m=\u001b[39mparam_grid,\n\u001b[1;32m     18\u001b[0m                            cv\u001b[38;5;241m=\u001b[39m\u001b[38;5;241m5\u001b[39m,\n\u001b[1;32m     19\u001b[0m                            scoring\u001b[38;5;241m=\u001b[39m\u001b[38;5;124m'\u001b[39m\u001b[38;5;124maccuracy\u001b[39m\u001b[38;5;124m'\u001b[39m,\n\u001b[1;32m     20\u001b[0m                            n_jobs\u001b[38;5;241m=\u001b[39m\u001b[38;5;241m-\u001b[39m\u001b[38;5;241m1\u001b[39m,\n\u001b[1;32m     21\u001b[0m                            verbose\u001b[38;5;241m=\u001b[39m\u001b[38;5;241m1\u001b[39m)\n\u001b[0;32m---> 23\u001b[0m \u001b[43mgrid_search\u001b[49m\u001b[38;5;241;43m.\u001b[39;49m\u001b[43mfit\u001b[49m\u001b[43m(\u001b[49m\u001b[43mx_train\u001b[49m\u001b[43m,\u001b[49m\u001b[43m \u001b[49m\u001b[43my_train\u001b[49m\u001b[43m)\u001b[49m \u001b[38;5;66;03m# fit the model\u001b[39;00m\n\u001b[1;32m     25\u001b[0m \u001b[38;5;66;03m# Best parameters and accuracy\u001b[39;00m\n\u001b[1;32m     26\u001b[0m \u001b[38;5;28mprint\u001b[39m(\u001b[38;5;124m\"\u001b[39m\u001b[38;5;124mBest Parameters:\u001b[39m\u001b[38;5;124m\"\u001b[39m, grid_search\u001b[38;5;241m.\u001b[39mbest_params_)\n",
      "File \u001b[0;32m~/.local/lib/python3.10/site-packages/sklearn/base.py:1389\u001b[0m, in \u001b[0;36m_fit_context.<locals>.decorator.<locals>.wrapper\u001b[0;34m(estimator, *args, **kwargs)\u001b[0m\n\u001b[1;32m   1382\u001b[0m     estimator\u001b[38;5;241m.\u001b[39m_validate_params()\n\u001b[1;32m   1384\u001b[0m \u001b[38;5;28;01mwith\u001b[39;00m config_context(\n\u001b[1;32m   1385\u001b[0m     skip_parameter_validation\u001b[38;5;241m=\u001b[39m(\n\u001b[1;32m   1386\u001b[0m         prefer_skip_nested_validation \u001b[38;5;129;01mor\u001b[39;00m global_skip_validation\n\u001b[1;32m   1387\u001b[0m     )\n\u001b[1;32m   1388\u001b[0m ):\n\u001b[0;32m-> 1389\u001b[0m     \u001b[38;5;28;01mreturn\u001b[39;00m \u001b[43mfit_method\u001b[49m\u001b[43m(\u001b[49m\u001b[43mestimator\u001b[49m\u001b[43m,\u001b[49m\u001b[43m \u001b[49m\u001b[38;5;241;43m*\u001b[39;49m\u001b[43margs\u001b[49m\u001b[43m,\u001b[49m\u001b[43m \u001b[49m\u001b[38;5;241;43m*\u001b[39;49m\u001b[38;5;241;43m*\u001b[39;49m\u001b[43mkwargs\u001b[49m\u001b[43m)\u001b[49m\n",
      "File \u001b[0;32m~/.local/lib/python3.10/site-packages/sklearn/model_selection/_search.py:928\u001b[0m, in \u001b[0;36mBaseSearchCV.fit\u001b[0;34m(self, X, y, **params)\u001b[0m\n\u001b[1;32m    925\u001b[0m estimator \u001b[38;5;241m=\u001b[39m \u001b[38;5;28mself\u001b[39m\u001b[38;5;241m.\u001b[39mestimator\n\u001b[1;32m    926\u001b[0m scorers, refit_metric \u001b[38;5;241m=\u001b[39m \u001b[38;5;28mself\u001b[39m\u001b[38;5;241m.\u001b[39m_get_scorers()\n\u001b[0;32m--> 928\u001b[0m X, y \u001b[38;5;241m=\u001b[39m \u001b[43mindexable\u001b[49m\u001b[43m(\u001b[49m\u001b[43mX\u001b[49m\u001b[43m,\u001b[49m\u001b[43m \u001b[49m\u001b[43my\u001b[49m\u001b[43m)\u001b[49m\n\u001b[1;32m    929\u001b[0m params \u001b[38;5;241m=\u001b[39m _check_method_params(X, params\u001b[38;5;241m=\u001b[39mparams)\n\u001b[1;32m    931\u001b[0m routed_params \u001b[38;5;241m=\u001b[39m \u001b[38;5;28mself\u001b[39m\u001b[38;5;241m.\u001b[39m_get_routed_params_for_fit(params)\n",
      "File \u001b[0;32m~/.local/lib/python3.10/site-packages/sklearn/utils/validation.py:532\u001b[0m, in \u001b[0;36mindexable\u001b[0;34m(*iterables)\u001b[0m\n\u001b[1;32m    502\u001b[0m \u001b[38;5;250m\u001b[39m\u001b[38;5;124;03m\"\"\"Make arrays indexable for cross-validation.\u001b[39;00m\n\u001b[1;32m    503\u001b[0m \n\u001b[1;32m    504\u001b[0m \u001b[38;5;124;03mChecks consistent length, passes through None, and ensures that everything\u001b[39;00m\n\u001b[0;32m   (...)\u001b[0m\n\u001b[1;32m    528\u001b[0m \u001b[38;5;124;03m[[1, 2, 3], array([2, 3, 4]), None, <...Sparse...dtype 'int64'...shape (3, 1)>]\u001b[39;00m\n\u001b[1;32m    529\u001b[0m \u001b[38;5;124;03m\"\"\"\u001b[39;00m\n\u001b[1;32m    531\u001b[0m result \u001b[38;5;241m=\u001b[39m [_make_indexable(X) \u001b[38;5;28;01mfor\u001b[39;00m X \u001b[38;5;129;01min\u001b[39;00m iterables]\n\u001b[0;32m--> 532\u001b[0m \u001b[43mcheck_consistent_length\u001b[49m\u001b[43m(\u001b[49m\u001b[38;5;241;43m*\u001b[39;49m\u001b[43mresult\u001b[49m\u001b[43m)\u001b[49m\n\u001b[1;32m    533\u001b[0m \u001b[38;5;28;01mreturn\u001b[39;00m result\n",
      "File \u001b[0;32m~/.local/lib/python3.10/site-packages/sklearn/utils/validation.py:475\u001b[0m, in \u001b[0;36mcheck_consistent_length\u001b[0;34m(*arrays)\u001b[0m\n\u001b[1;32m    473\u001b[0m uniques \u001b[38;5;241m=\u001b[39m np\u001b[38;5;241m.\u001b[39munique(lengths)\n\u001b[1;32m    474\u001b[0m \u001b[38;5;28;01mif\u001b[39;00m \u001b[38;5;28mlen\u001b[39m(uniques) \u001b[38;5;241m>\u001b[39m \u001b[38;5;241m1\u001b[39m:\n\u001b[0;32m--> 475\u001b[0m     \u001b[38;5;28;01mraise\u001b[39;00m \u001b[38;5;167;01mValueError\u001b[39;00m(\n\u001b[1;32m    476\u001b[0m         \u001b[38;5;124m\"\u001b[39m\u001b[38;5;124mFound input variables with inconsistent numbers of samples: \u001b[39m\u001b[38;5;132;01m%r\u001b[39;00m\u001b[38;5;124m\"\u001b[39m\n\u001b[1;32m    477\u001b[0m         \u001b[38;5;241m%\u001b[39m [\u001b[38;5;28mint\u001b[39m(l) \u001b[38;5;28;01mfor\u001b[39;00m l \u001b[38;5;129;01min\u001b[39;00m lengths]\n\u001b[1;32m    478\u001b[0m     )\n",
      "\u001b[0;31mValueError\u001b[0m: Found input variables with inconsistent numbers of samples: [6650, 2850]"
     ]
    }
   ],
   "source": [
    "from sklearn.ensemble import RandomForestClassifier\n",
    "from sklearn.model_selection import GridSearchCV\n",
    "from sklearn.metrics import accuracy_score\n",
    "\n",
    "# parameters for grid search\n",
    "param_grid = {\n",
    "    'n_estimators': [100, 200, 300],\n",
    "    'max_depth': [None, 10, 20],\n",
    "    'max_features': ['sqrt', 'log2']\n",
    "}\n",
    "\n",
    "# random forest classifier\n",
    "rf = RandomForestClassifier(random_state=42)\n",
    "\n",
    "# run grid search across parameters\n",
    "grid_search = GridSearchCV(estimator=rf,\n",
    "                           param_grid=param_grid,\n",
    "                           cv=5,\n",
    "                           scoring='accuracy',\n",
    "                           n_jobs=-1,\n",
    "                           verbose=1)\n",
    "\n",
    "grid_search.fit(x_train, y_train) # fit the model\n",
    "\n",
    "# Best parameters and accuracy\n",
    "print(\"Best Parameters:\", grid_search.best_params_)\n",
    "print(\"Best CV Score:\", grid_search.best_score_)\n",
    "\n",
    "# Evaluate on test set\n",
    "best_model = grid_search.best_estimator_\n",
    "y_pred = best_model.predict(x_test)\n",
    "print(\"Test Accuracy:\", accuracy_score(y_test, y_pred))"
   ]
  },
  {
   "cell_type": "code",
   "execution_count": null,
   "id": "477d243c-71d6-433e-9bec-b5a12504fc69",
   "metadata": {},
   "outputs": [],
   "source": [
    "# Visualizing a single tree from Random Forest\n",
    "estimator = rf_clf.estimators_[0]  # choosing the first tree\n",
    "\n",
    "plt.figure(figsize=(16,10))\n",
    "# Pass the 'estimator' object directly as the 'decision_tree' argument\n",
    "plot_tree(decision_tree=estimator, # Changed 'estimator=' to 'decision_tree='\n",
    "          feature_names=iris.feature_names,\n",
    "          class_names=iris.target_names,\n",
    "          filled=True)\n",
    "plt.title('Visualization of a Single Decision Tree from Random Forest')\n",
    "plt.show()"
   ]
  },
  {
   "cell_type": "code",
   "execution_count": null,
   "id": "93e01a28-d605-44ec-896b-0a48f7513aa7",
   "metadata": {},
   "outputs": [],
   "source": [
    "y_pred_rf = rf_clf.predict(X_test)\n",
    "accuracy_rf = accuracy_score(y_test, y_pred_rf)\n",
    "print(f'Random Forest Accuracy: {accuracy_rf:.2f}')"
   ]
  },
  {
   "cell_type": "code",
   "execution_count": null,
   "id": "e3b4c1ba-656e-4e43-b0e7-edfeef6439a7",
   "metadata": {},
   "outputs": [],
   "source": [
    "importances = rf_clf.feature_importances_\n",
    "indices = np.argsort(importances)[::-1]\n",
    "\n",
    "print(\"Feature Importances:\")\n",
    "for idx in indices:\n",
    "    print(f\"{iris.feature_names[idx]}: {importances[idx]:.4f}\")\n",
    "\n",
    "# Visualize Feature Importance\n",
    "plt.figure(figsize=(8, 6))\n",
    "plt.title(\"Feature Importances in Random Forest\")\n",
    "plt.bar(range(X.shape[1]), importances[indices], align=\"center\")\n",
    "plt.xticks(range(X.shape[1]), [iris.feature_names[i] for i in indices], rotation=45)\n",
    "plt.ylabel('Importance Score')\n",
    "plt.tight_layout()\n",
    "plt.show()"
   ]
  },
  {
   "cell_type": "markdown",
   "id": "05b31e8c-afbd-4ac8-94f2-10b4076b1b19",
   "metadata": {},
   "source": [
    "## Guide Questions"
   ]
  },
  {
   "cell_type": "code",
   "execution_count": null,
   "id": "e7d19ad2-0f46-4e33-9cb1-3241104fb1ab",
   "metadata": {},
   "outputs": [],
   "source": []
  }
 ],
 "metadata": {
  "kernelspec": {
   "display_name": "Python 3 (ipykernel)",
   "language": "python",
   "name": "python3"
  },
  "language_info": {
   "codemirror_mode": {
    "name": "ipython",
    "version": 3
   },
   "file_extension": ".py",
   "mimetype": "text/x-python",
   "name": "python",
   "nbconvert_exporter": "python",
   "pygments_lexer": "ipython3",
   "version": "3.10.12"
  }
 },
 "nbformat": 4,
 "nbformat_minor": 5
}
